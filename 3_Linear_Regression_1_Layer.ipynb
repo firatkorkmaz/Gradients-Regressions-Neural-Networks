{
 "cells": [
  {
   "cell_type": "code",
   "execution_count": null,
   "metadata": {
    "id": "sp_AM7FSXvwc"
   },
   "outputs": [],
   "source": [
    "# Linear Regression Example #"
   ]
  },
  {
   "cell_type": "code",
   "execution_count": null,
   "metadata": {
    "colab": {
     "base_uri": "https://localhost:8080/",
     "height": 17
    },
    "id": "E0P0LEUymfdO",
    "outputId": "0990ae79-0c52-43f3-99fb-da5937f9b544"
   },
   "outputs": [
    {
     "data": {
      "text/html": [
       "<style>.container { width:100% !important; }</style>"
      ],
      "text/plain": [
       "<IPython.core.display.HTML object>"
      ]
     },
     "metadata": {},
     "output_type": "display_data"
    }
   ],
   "source": [
    "# Increasing the Cell Width of Jupyter Notebook\n",
    "\n",
    "from IPython.display import display, HTML\n",
    "display(HTML(\"<style>.container { width:100% !important; }</style>\"))"
   ]
  },
  {
   "cell_type": "code",
   "execution_count": null,
   "metadata": {
    "id": "cbWA4Yt6pYXP"
   },
   "outputs": [],
   "source": [
    "# Importing Libraries\n",
    "\n",
    "import torch\n",
    "import numpy as np\n",
    "import torch.nn as nn\n",
    "from tqdm.auto import tqdm\n",
    "import torch.nn.functional as F\n",
    "from torch.utils.data import DataLoader\n",
    "from torch.utils.data import TensorDataset"
   ]
  },
  {
   "cell_type": "code",
   "execution_count": null,
   "metadata": {
    "id": "9opUYo7MqeKs"
   },
   "outputs": [],
   "source": [
    "# Creating a Dataset Which Shows Apple and Orange Yields with the Given Circumstances:\n",
    "\n",
    "# Inputs (Temperature, Rainfall, Humidity)\n",
    "inputs = np.array([ [73, 67, 43],\n",
    "                    [91, 88, 64],\n",
    "                    [87, 134, 58],\n",
    "                    [102, 43, 37],\n",
    "                    [69, 96, 70],\n",
    "                    [74, 66, 43],\n",
    "                    [91, 87, 65],\n",
    "                    [88, 134, 59],\n",
    "                    [101, 44, 37],\n",
    "                    [68, 96, 71],\n",
    "                    [73, 66, 44],\n",
    "                    [92, 87, 64],\n",
    "                    [87, 135, 57],\n",
    "                    [103, 43, 36],\n",
    "                    [68, 97, 70] ], dtype='float32')\n",
    "\n",
    "# Targets (Apples, Oranges)\n",
    "targets = np.array([ [56, 70],\n",
    "                     [81, 101],\n",
    "                     [119, 133],\n",
    "                     [22, 37],\n",
    "                     [103, 119],\n",
    "                     [57, 69],\n",
    "                     [80, 102],\n",
    "                     [118, 132],\n",
    "                     [21, 38],\n",
    "                     [104, 118],\n",
    "                     [57, 69],\n",
    "                     [82, 100],\n",
    "                     [118, 134],\n",
    "                     [20, 38],\n",
    "                     [102, 120] ], dtype='float32')"
   ]
  },
  {
   "cell_type": "code",
   "execution_count": null,
   "metadata": {
    "colab": {
     "base_uri": "https://localhost:8080/"
    },
    "id": "DxHFHy5ZqkP0",
    "outputId": "b53d2274-3fe2-40c7-c074-5071d3479e39"
   },
   "outputs": [
    {
     "name": "stdout",
     "output_type": "stream",
     "text": [
      "inputs:\n",
      "tensor([[ 73.,  67.,  43.],\n",
      "        [ 91.,  88.,  64.],\n",
      "        [ 87., 134.,  58.],\n",
      "        [102.,  43.,  37.],\n",
      "        [ 69.,  96.,  70.],\n",
      "        [ 74.,  66.,  43.],\n",
      "        [ 91.,  87.,  65.],\n",
      "        [ 88., 134.,  59.],\n",
      "        [101.,  44.,  37.],\n",
      "        [ 68.,  96.,  71.],\n",
      "        [ 73.,  66.,  44.],\n",
      "        [ 92.,  87.,  64.],\n",
      "        [ 87., 135.,  57.],\n",
      "        [103.,  43.,  36.],\n",
      "        [ 68.,  97.,  70.]])\n",
      "\n",
      "targets:\n",
      "tensor([[ 56.,  70.],\n",
      "        [ 81., 101.],\n",
      "        [119., 133.],\n",
      "        [ 22.,  37.],\n",
      "        [103., 119.],\n",
      "        [ 57.,  69.],\n",
      "        [ 80., 102.],\n",
      "        [118., 132.],\n",
      "        [ 21.,  38.],\n",
      "        [104., 118.],\n",
      "        [ 57.,  69.],\n",
      "        [ 82., 100.],\n",
      "        [118., 134.],\n",
      "        [ 20.,  38.],\n",
      "        [102., 120.]])\n",
      "\n"
     ]
    }
   ],
   "source": [
    "# Converting Inputs and Targets to Tensors\n",
    "\n",
    "inputs = torch.from_numpy(inputs)\n",
    "targets = torch.from_numpy(targets)\n",
    "\n",
    "print(f\"inputs:\\n{inputs}\\n\")\n",
    "print(f\"targets:\\n{targets}\\n\")"
   ]
  },
  {
   "cell_type": "code",
   "execution_count": null,
   "metadata": {
    "colab": {
     "base_uri": "https://localhost:8080/"
    },
    "id": "plL008VfqlW5",
    "outputId": "273ce26e-57d3-474e-fedc-d2fa38f3c068"
   },
   "outputs": [
    {
     "name": "stdout",
     "output_type": "stream",
     "text": [
      "(tensor([[ 73.,  67.,  43.],\n",
      "        [ 91.,  88.,  64.],\n",
      "        [ 87., 134.,  58.],\n",
      "        [102.,  43.,  37.],\n",
      "        [ 69.,  96.,  70.],\n",
      "        [ 74.,  66.,  43.],\n",
      "        [ 91.,  87.,  65.],\n",
      "        [ 88., 134.,  59.],\n",
      "        [101.,  44.,  37.],\n",
      "        [ 68.,  96.,  71.],\n",
      "        [ 73.,  66.,  44.],\n",
      "        [ 92.,  87.,  64.],\n",
      "        [ 87., 135.,  57.],\n",
      "        [103.,  43.,  36.],\n",
      "        [ 68.,  97.,  70.]]), tensor([[ 56.,  70.],\n",
      "        [ 81., 101.],\n",
      "        [119., 133.],\n",
      "        [ 22.,  37.],\n",
      "        [103., 119.],\n",
      "        [ 57.,  69.],\n",
      "        [ 80., 102.],\n",
      "        [118., 132.],\n",
      "        [ 21.,  38.],\n",
      "        [104., 118.],\n",
      "        [ 57.,  69.],\n",
      "        [ 82., 100.],\n",
      "        [118., 134.],\n",
      "        [ 20.,  38.],\n",
      "        [102., 120.]]))\n"
     ]
    }
   ],
   "source": [
    "# Defining Dataset\n",
    "\n",
    "train_ds = TensorDataset(inputs, targets)\n",
    "print(train_ds.tensors)"
   ]
  },
  {
   "cell_type": "code",
   "execution_count": null,
   "metadata": {
    "id": "4PQCNH0Aqs2O"
   },
   "outputs": [],
   "source": [
    "# Defining Data Loader\n",
    "\n",
    "batch_size = 4\n",
    "train_dl = DataLoader(train_ds, batch_size, shuffle=True)"
   ]
  },
  {
   "cell_type": "code",
   "execution_count": null,
   "metadata": {
    "colab": {
     "base_uri": "https://localhost:8080/"
    },
    "id": "y1Bk1MaIrPtl",
    "outputId": "a0ed92f8-3cce-4d65-d5cc-57e3d703a414"
   },
   "outputs": [
    {
     "name": "stdout",
     "output_type": "stream",
     "text": [
      "inputs-batch-1:\n",
      "tensor([[101.,  44.,  37.],\n",
      "        [ 87., 135.,  57.],\n",
      "        [ 87., 134.,  58.],\n",
      "        [ 73.,  67.,  43.]])\n",
      "\n",
      "targets-batch-1:\n",
      "tensor([[ 21.,  38.],\n",
      "        [118., 134.],\n",
      "        [119., 133.],\n",
      "        [ 56.,  70.]])\n",
      "\n",
      "inputs-batch-2:\n",
      "tensor([[102.,  43.,  37.],\n",
      "        [ 69.,  96.,  70.],\n",
      "        [ 68.,  97.,  70.],\n",
      "        [103.,  43.,  36.]])\n",
      "\n",
      "targets-batch-2:\n",
      "tensor([[ 22.,  37.],\n",
      "        [103., 119.],\n",
      "        [102., 120.],\n",
      "        [ 20.,  38.]])\n",
      "\n",
      "inputs-batch-3:\n",
      "tensor([[91., 88., 64.],\n",
      "        [92., 87., 64.],\n",
      "        [74., 66., 43.],\n",
      "        [73., 66., 44.]])\n",
      "\n",
      "targets-batch-3:\n",
      "tensor([[ 81., 101.],\n",
      "        [ 82., 100.],\n",
      "        [ 57.,  69.],\n",
      "        [ 57.,  69.]])\n",
      "\n",
      "inputs-batch-4:\n",
      "tensor([[ 91.,  87.,  65.],\n",
      "        [ 68.,  96.,  71.],\n",
      "        [ 88., 134.,  59.]])\n",
      "\n",
      "targets-batch-4:\n",
      "tensor([[ 80., 102.],\n",
      "        [104., 118.],\n",
      "        [118., 132.]])\n",
      "\n"
     ]
    }
   ],
   "source": [
    "# Printing All the Input-Target Data Pieces per Batch\n",
    "\n",
    "i = 1\n",
    "for x_b, y_b in train_dl:\n",
    "    print(f\"inputs-batch-{i}:\\n{x_b}\\n\")\n",
    "    print(f\"targets-batch-{i}:\\n{y_b}\\n\")\n",
    "    i += 1\n",
    "    #break"
   ]
  },
  {
   "cell_type": "code",
   "execution_count": null,
   "metadata": {
    "colab": {
     "base_uri": "https://localhost:8080/"
    },
    "id": "cfOnQV-brUud",
    "outputId": "0ea32aa9-47c2-4310-9047-03005a7f29b9"
   },
   "outputs": [
    {
     "name": "stdout",
     "output_type": "stream",
     "text": [
      "Parameter containing:\n",
      "tensor([[ 0.5026, -0.0120,  1.2367],\n",
      "        [-1.0853,  0.0381, -1.2989]], requires_grad=True)\n",
      "Parameter containing:\n",
      "tensor([0., 0.], requires_grad=True)\n"
     ]
    }
   ],
   "source": [
    "# Defining Model by nn.Linear() with Kaiming Uniform Distribution\n",
    "\n",
    "model = nn.Linear(3, 2)\n",
    "nn.init.kaiming_uniform_(model.weight)\n",
    "if model.bias is not None:\n",
    "    nn.init.constant_(model.bias, 0.)\n",
    "\n",
    "print(model.weight)\n",
    "print(model.bias)"
   ]
  },
  {
   "cell_type": "code",
   "execution_count": null,
   "metadata": {
    "colab": {
     "base_uri": "https://localhost:8080/"
    },
    "id": "fUiNdPRIrb44",
    "outputId": "4e8c9a20-7b28-446e-f7f7-8a969c72c6bd"
   },
   "outputs": [
    {
     "data": {
      "text/plain": [
       "[Parameter containing:\n",
       " tensor([[ 0.5026, -0.0120,  1.2367],\n",
       "         [-1.0853,  0.0381, -1.2989]], requires_grad=True),\n",
       " Parameter containing:\n",
       " tensor([0., 0.], requires_grad=True)]"
      ]
     },
     "execution_count": 9,
     "metadata": {},
     "output_type": "execute_result"
    }
   ],
   "source": [
    "# Printing Parameters Quickly\n",
    "\n",
    "list(model.parameters())"
   ]
  },
  {
   "cell_type": "code",
   "execution_count": null,
   "metadata": {
    "id": "06C95AsJreEB"
   },
   "outputs": [],
   "source": [
    "# Defining Loss Function\n",
    "\n",
    "loss_fn = F.l1_loss\n",
    "#loss_fn = F.mse_loss"
   ]
  },
  {
   "cell_type": "code",
   "execution_count": null,
   "metadata": {
    "colab": {
     "base_uri": "https://localhost:8080/"
    },
    "id": "LyeW3xf3rjeR",
    "outputId": "a8ac2207-bc31-4389-e7b9-ed8128c495a2"
   },
   "outputs": [
    {
     "name": "stdout",
     "output_type": "stream",
     "text": [
      "Inputs:\n",
      "[[ 73.  67.  43.]\n",
      " [ 91.  88.  64.]\n",
      " [ 87. 134.  58.]\n",
      " [102.  43.  37.]\n",
      " [ 69.  96.  70.]\n",
      " [ 74.  66.  43.]\n",
      " [ 91.  87.  65.]\n",
      " [ 88. 134.  59.]\n",
      " [101.  44.  37.]\n",
      " [ 68.  96.  71.]\n",
      " [ 73.  66.  44.]\n",
      " [ 92.  87.  64.]\n",
      " [ 87. 135.  57.]\n",
      " [103.  43.  36.]\n",
      " [ 68.  97.  70.]]\n",
      "\n",
      "Predictions:\n",
      "[[  89. -132.]\n",
      " [ 123. -178.]\n",
      " [ 113. -164.]\n",
      " [  96. -157.]\n",
      " [ 120. -162.]\n",
      " [  89. -133.]\n",
      " [ 125. -179.]\n",
      " [ 115. -167.]\n",
      " [  95. -155.]\n",
      " [ 120. -162.]\n",
      " [  90. -133.]\n",
      " [ 124. -179.]\n",
      " [ 112. -163.]\n",
      " [  95. -156.]\n",
      " [ 119. -161.]]\n",
      "\n",
      "Targets:\n",
      "[[ 56.  70.]\n",
      " [ 81. 101.]\n",
      " [119. 133.]\n",
      " [ 22.  37.]\n",
      " [103. 119.]\n",
      " [ 57.  69.]\n",
      " [ 80. 102.]\n",
      " [118. 132.]\n",
      " [ 21.  38.]\n",
      " [104. 118.]\n",
      " [ 57.  69.]\n",
      " [ 82. 100.]\n",
      " [118. 134.]\n",
      " [ 20.  38.]\n",
      " [102. 120.]]\n",
      "\n",
      "Difference:\n",
      "[[  33. -202.]\n",
      " [  42. -279.]\n",
      " [  -6. -297.]\n",
      " [  74. -194.]\n",
      " [  17. -281.]\n",
      " [  32. -202.]\n",
      " [  45. -281.]\n",
      " [  -3. -299.]\n",
      " [  74. -193.]\n",
      " [  16. -280.]\n",
      " [  33. -202.]\n",
      " [  42. -279.]\n",
      " [  -6. -297.]\n",
      " [  75. -194.]\n",
      " [  17. -281.]]\n",
      "\n",
      "Loss:\n",
      "142.9236297607422\n",
      "\n"
     ]
    }
   ],
   "source": [
    "# Generating Predictions Before Training\n",
    "\n",
    "preds = model(inputs)\n",
    "\n",
    "print(f\"Inputs:\\n{inputs.numpy()}\\n\")\n",
    "print(f\"Predictions:\\n{torch.trunc(preds).detach().numpy()}\\n\")\n",
    "print(f\"Targets:\\n{targets.numpy()}\\n\")\n",
    "print(f\"Difference:\\n{(torch.trunc(preds)-targets).detach().numpy()}\\n\")\n",
    "print(f\"Loss:\\n{loss_fn(preds, targets)}\\n\")"
   ]
  },
  {
   "cell_type": "code",
   "execution_count": null,
   "metadata": {
    "id": "7AKNSDIOrl2Q"
   },
   "outputs": [],
   "source": [
    "# Defining Optimizer\n",
    "\n",
    "opt = torch.optim.SGD(model.parameters(), lr=1e-4)"
   ]
  },
  {
   "cell_type": "code",
   "execution_count": null,
   "metadata": {
    "id": "U4MOV81LrpbG"
   },
   "outputs": [],
   "source": [
    "# Utility Function to Train the Model\n",
    "\n",
    "def fit(epochs, model, loss_fn, opt, train_dl):\n",
    "\n",
    "    lr_down = True\n",
    "    for epoch in range(epochs):                       # For Each Epoch;\n",
    "\n",
    "        for x_b, y_b in train_dl:                     # For Each Input-Target Data Piece per Batch;\n",
    "            opt.zero_grad()                           # 1. Reset the Gradients to Zero\n",
    "            pred = model(x_b)                         # 2. Generate Predictions\n",
    "            loss = loss_fn(pred, y_b)                 # 3. Evaluate Loss\n",
    "            loss.backward()                           # 4. Compute Gradients\n",
    "            opt.step()                                # 5. Update Parameters Using Gradients\n",
    "\n",
    "            if (epoch + 1) % (3 * epochs / 10) == 0:  # 6a. When It Reaches to 30% of the Total Epochs;\n",
    "                if lr_down:\n",
    "                    opt.param_groups[0]['lr'] /= 10   # 6b. Divide the Learning Rate by 10 for Once (Optional)\n",
    "                lr_down = False\n",
    "\n",
    "        if (epoch + 1) % 250 == 0:                    # 7. Print the Progress for a Specific Number of Epochs.\n",
    "            print(f\"Epoch [{epoch + 1}/{epochs}], Loss: {loss.item():.4f}\")\n"
   ]
  },
  {
   "cell_type": "code",
   "execution_count": null,
   "metadata": {
    "colab": {
     "base_uri": "https://localhost:8080/"
    },
    "id": "ziE1KZhbtZgi",
    "outputId": "7fe2165f-20df-4bb3-e948-6dfa51c9911f"
   },
   "outputs": [
    {
     "name": "stdout",
     "output_type": "stream",
     "text": [
      "Epoch [250/6000], Loss: 2.4937\n",
      "Epoch [500/6000], Loss: 7.3098\n",
      "Epoch [750/6000], Loss: 3.7179\n",
      "Epoch [1000/6000], Loss: 1.6053\n",
      "Epoch [1250/6000], Loss: 0.8352\n",
      "Epoch [1500/6000], Loss: 1.0063\n",
      "Epoch [1750/6000], Loss: 0.9941\n",
      "Epoch [2000/6000], Loss: 1.2181\n",
      "Epoch [2250/6000], Loss: 0.7775\n",
      "Epoch [2500/6000], Loss: 0.5395\n",
      "Epoch [2750/6000], Loss: 1.3612\n",
      "Epoch [3000/6000], Loss: 0.6276\n",
      "Epoch [3250/6000], Loss: 0.6212\n",
      "Epoch [3500/6000], Loss: 1.0177\n",
      "Epoch [3750/6000], Loss: 0.6031\n",
      "Epoch [4000/6000], Loss: 1.1869\n",
      "Epoch [4250/6000], Loss: 0.9719\n",
      "Epoch [4500/6000], Loss: 0.5462\n",
      "Epoch [4750/6000], Loss: 0.8474\n",
      "Epoch [5000/6000], Loss: 0.9824\n",
      "Epoch [5250/6000], Loss: 0.5952\n",
      "Epoch [5500/6000], Loss: 0.7583\n",
      "Epoch [5750/6000], Loss: 0.7318\n",
      "Epoch [6000/6000], Loss: 0.6711\n"
     ]
    }
   ],
   "source": [
    "# Training the Model with the Given Number of Epochs\n",
    "\n",
    "fit(6000, model, loss_fn, opt, train_dl)"
   ]
  },
  {
   "cell_type": "code",
   "execution_count": null,
   "metadata": {
    "colab": {
     "base_uri": "https://localhost:8080/"
    },
    "id": "XLRAh3RTsPl2",
    "outputId": "5f5171e5-83a8-4e98-cb96-0e4bea32596f"
   },
   "outputs": [
    {
     "name": "stdout",
     "output_type": "stream",
     "text": [
      "Inputs:\n",
      "[[ 73.  67.  43.]\n",
      " [ 91.  88.  64.]\n",
      " [ 87. 134.  58.]\n",
      " [102.  43.  37.]\n",
      " [ 69.  96.  70.]\n",
      " [ 74.  66.  43.]\n",
      " [ 91.  87.  65.]\n",
      " [ 88. 134.  59.]\n",
      " [101.  44.  37.]\n",
      " [ 68.  96.  71.]\n",
      " [ 73.  66.  44.]\n",
      " [ 92.  87.  64.]\n",
      " [ 87. 135.  57.]\n",
      " [103.  43.  36.]\n",
      " [ 68.  97.  70.]]\n",
      "\n",
      "Predictions:\n",
      "[[ 57.  70.]\n",
      " [ 82. 100.]\n",
      " [117. 132.]\n",
      " [ 21.  36.]\n",
      " [102. 118.]\n",
      " [ 55.  69.]\n",
      " [ 82. 100.]\n",
      " [118. 133.]\n",
      " [ 22.  38.]\n",
      " [103. 120.]\n",
      " [ 57.  70.]\n",
      " [ 81.  99.]\n",
      " [117. 132.]\n",
      " [ 19.  35.]\n",
      " [103. 119.]]\n",
      "\n",
      "Targets:\n",
      "[[ 56.  70.]\n",
      " [ 81. 101.]\n",
      " [119. 133.]\n",
      " [ 22.  37.]\n",
      " [103. 119.]\n",
      " [ 57.  69.]\n",
      " [ 80. 102.]\n",
      " [118. 132.]\n",
      " [ 21.  38.]\n",
      " [104. 118.]\n",
      " [ 57.  69.]\n",
      " [ 82. 100.]\n",
      " [118. 134.]\n",
      " [ 20.  38.]\n",
      " [102. 120.]]\n",
      "\n",
      "Difference:\n",
      "[[ 1.  0.]\n",
      " [ 1. -1.]\n",
      " [-2. -1.]\n",
      " [-1. -1.]\n",
      " [-1. -1.]\n",
      " [-2.  0.]\n",
      " [ 2. -2.]\n",
      " [ 0.  1.]\n",
      " [ 1.  0.]\n",
      " [-1.  2.]\n",
      " [ 0.  1.]\n",
      " [-1. -1.]\n",
      " [-1. -2.]\n",
      " [-1. -3.]\n",
      " [ 1. -1.]]\n",
      "\n",
      "Loss:\n",
      "0.8251345157623291\n",
      "\n"
     ]
    }
   ],
   "source": [
    "# Generating Predictions After Training\n",
    "\n",
    "preds = model(inputs)\n",
    "\n",
    "print(f\"Inputs:\\n{inputs.numpy()}\\n\")\n",
    "print(f\"Predictions:\\n{torch.trunc(preds).detach().numpy()}\\n\")\n",
    "print(f\"Targets:\\n{targets.numpy()}\\n\")\n",
    "print(f\"Difference:\\n{(torch.trunc(preds)-targets).detach().numpy()}\\n\")\n",
    "print(f\"Loss:\\n{loss_fn(preds, targets)}\\n\")"
   ]
  },
  {
   "cell_type": "code",
   "execution_count": null,
   "metadata": {
    "colab": {
     "base_uri": "https://localhost:8080/"
    },
    "id": "OWIQxvxNtkpR",
    "outputId": "16893f8f-e4bd-4565-fdb7-431509fcc661"
   },
   "outputs": [
    {
     "name": "stdout",
     "output_type": "stream",
     "text": [
      "Inputs:\n",
      "[73. 67. 43.]\n",
      "\n",
      "Predictions:\n",
      "[57. 70.]\n",
      "\n",
      "Targets:\n",
      "[56. 70.]\n",
      "\n",
      "Difference:\n",
      "[1. 0.]\n",
      "\n",
      "Loss:\n",
      "0.6847705841064453\n",
      "\n"
     ]
    }
   ],
   "source": [
    "# Testing the Model with Single Input\n",
    "\n",
    "i = 0\n",
    "preds = model(inputs[i])\n",
    "\n",
    "print(f\"Inputs:\\n{inputs[i].numpy()}\\n\")\n",
    "print(f\"Predictions:\\n{torch.trunc(preds).detach().numpy()}\\n\")\n",
    "print(f\"Targets:\\n{targets[i].numpy()}\\n\")\n",
    "print(f\"Difference:\\n{(torch.trunc(preds)-targets[i]).detach().numpy()}\\n\")\n",
    "print(f\"Loss:\\n{loss_fn(preds, targets[i])}\\n\")"
   ]
  },
  {
   "cell_type": "code",
   "execution_count": null,
   "metadata": {
    "id": "6yO8VCq2tmlD"
   },
   "outputs": [],
   "source": []
  }
 ],
 "metadata": {
  "accelerator": "GPU",
  "colab": {
   "gpuType": "T4",
   "machine_shape": "hm",
   "provenance": []
  },
  "kernelspec": {
   "display_name": "Python 3 (ipykernel)",
   "language": "python",
   "name": "python3"
  },
  "language_info": {
   "codemirror_mode": {
    "name": "ipython",
    "version": 3
   },
   "file_extension": ".py",
   "mimetype": "text/x-python",
   "name": "python",
   "nbconvert_exporter": "python",
   "pygments_lexer": "ipython3",
   "version": "3.10.13"
  }
 },
 "nbformat": 4,
 "nbformat_minor": 1
}
