{
 "cells": [
  {
   "cell_type": "code",
   "execution_count": null,
   "metadata": {
    "id": "WOR1Li0KZilq"
   },
   "outputs": [],
   "source": [
    "# Numpy-Tensor Exercises #"
   ]
  },
  {
   "cell_type": "code",
   "execution_count": null,
   "metadata": {
    "id": "fZqDgEGVX1ai"
   },
   "outputs": [],
   "source": [
    "# Increasing the Cell Width of Jupyter Notebook\n",
    "\n",
    "from IPython.display import display, HTML\n",
    "display(HTML(\"<style>.container { width:100% !important; }</style>\"))"
   ]
  },
  {
   "cell_type": "code",
   "execution_count": null,
   "metadata": {
    "id": "c1vMrW7qof5l"
   },
   "outputs": [],
   "source": [
    "# Importing Libraries\n",
    "\n",
    "import torch\n",
    "import numpy as np"
   ]
  },
  {
   "cell_type": "code",
   "execution_count": null,
   "metadata": {
    "colab": {
     "base_uri": "https://localhost:8080/"
    },
    "id": "Y3GTw5-kx5UB",
    "outputId": "680b3729-db31-4757-965b-4420e0a7d42e"
   },
   "outputs": [
    {
     "name": "stdout",
     "output_type": "stream",
     "text": [
      "x: 4\n",
      "\n",
      "x.shape: ()\n"
     ]
    }
   ],
   "source": [
    "# Numpy Number\n",
    "\n",
    "x = np.array(4)\n",
    "print(f\"x: {x}\\n\")\n",
    "print(f\"x.shape: {x.shape}\")"
   ]
  },
  {
   "cell_type": "code",
   "execution_count": null,
   "metadata": {
    "colab": {
     "base_uri": "https://localhost:8080/"
    },
    "id": "NXO4hwHax7_a",
    "outputId": "b42e592d-b266-40f5-c917-47cfaa2f878a"
   },
   "outputs": [
    {
     "name": "stdout",
     "output_type": "stream",
     "text": [
      "y: 4\n",
      "\n",
      "y.shape: torch.Size([])\n"
     ]
    }
   ],
   "source": [
    "# Converting a Numpy Number to a Torch Number\n",
    "\n",
    "y = torch.from_numpy(x)\n",
    "print(f\"y: {y}\\n\")\n",
    "print(f\"y.shape: {y.shape}\")"
   ]
  },
  {
   "cell_type": "code",
   "execution_count": null,
   "metadata": {
    "colab": {
     "base_uri": "https://localhost:8080/"
    },
    "id": "kd7IRs8ByBrT",
    "outputId": "679315d2-bf82-4c43-9ded-6db43bcbda10"
   },
   "outputs": [
    {
     "name": "stdout",
     "output_type": "stream",
     "text": [
      "b: 2\n",
      "\n",
      "b.shape: torch.Size([])\n"
     ]
    }
   ],
   "source": [
    "# Torch Number\n",
    "\n",
    "b = torch.tensor(2)\n",
    "print(f\"b: {b}\\n\")\n",
    "print(f\"b.shape: {b.shape}\")"
   ]
  },
  {
   "cell_type": "code",
   "execution_count": null,
   "metadata": {
    "colab": {
     "base_uri": "https://localhost:8080/"
    },
    "id": "qSOpxvE7yF8b",
    "outputId": "bf612022-9421-4509-f634-9278a18d0348"
   },
   "outputs": [
    {
     "name": "stdout",
     "output_type": "stream",
     "text": [
      "a: 2\n",
      "\n",
      "a.shape: ()\n"
     ]
    }
   ],
   "source": [
    "# Converting a Torch Number Back to a Numpy Number\n",
    "\n",
    "a = b.numpy()\n",
    "print(f\"a: {a}\\n\")\n",
    "print(f\"a.shape: {a.shape}\")"
   ]
  },
  {
   "cell_type": "code",
   "execution_count": null,
   "metadata": {
    "colab": {
     "base_uri": "https://localhost:8080/"
    },
    "id": "3P6X76vdyKGL",
    "outputId": "4454cb66-6051-4c7d-a0a8-f69009c0ad0c"
   },
   "outputs": [
    {
     "name": "stdout",
     "output_type": "stream",
     "text": [
      "n:\n",
      "[[1. 2.]\n",
      " [3. 4.]]\n",
      "\n",
      "n.shape:\n",
      "(2, 2)\n"
     ]
    }
   ],
   "source": [
    "# Numpy Array\n",
    "\n",
    "n = np.array([[1, 2], [3, 4.]])\n",
    "print(f\"n:\\n{n}\\n\")\n",
    "print(f\"n.shape:\\n{n.shape}\")"
   ]
  },
  {
   "cell_type": "code",
   "execution_count": null,
   "metadata": {
    "colab": {
     "base_uri": "https://localhost:8080/"
    },
    "id": "z-DKfggiyMOu",
    "outputId": "23d37199-7061-4518-b8fd-c1b1ec25cb14"
   },
   "outputs": [
    {
     "name": "stdout",
     "output_type": "stream",
     "text": [
      "t:\n",
      "tensor([[1., 2.],\n",
      "        [3., 4.]], dtype=torch.float64)\n",
      "\n",
      "t.shape:\n",
      "torch.Size([2, 2])\n"
     ]
    }
   ],
   "source": [
    "# Converting a Numpy Array to a Torch Tensor\n",
    "\n",
    "t = torch.from_numpy(n)\n",
    "print(f\"t:\\n{t}\\n\")\n",
    "print(f\"t.shape:\\n{t.shape}\")"
   ]
  },
  {
   "cell_type": "code",
   "execution_count": null,
   "metadata": {
    "colab": {
     "base_uri": "https://localhost:8080/"
    },
    "id": "txVN_XcuyUSx",
    "outputId": "5404f6c7-547d-4430-a6db-3c2b66b21148"
   },
   "outputs": [
    {
     "name": "stdout",
     "output_type": "stream",
     "text": [
      "n.dtype: float64\n",
      "\n",
      "t.dtype: torch.float64\n"
     ]
    }
   ],
   "source": [
    "# Numpy Array and Torch Tensor Have Similar Data Types\n",
    "\n",
    "print(f\"n.dtype: {n.dtype}\\n\")\n",
    "print(f\"t.dtype: {t.dtype}\")"
   ]
  },
  {
   "cell_type": "code",
   "execution_count": null,
   "metadata": {
    "colab": {
     "base_uri": "https://localhost:8080/"
    },
    "id": "MN6syK_ny7BU",
    "outputId": "78504592-14b2-4163-bf0e-a7c99f5d11d7"
   },
   "outputs": [
    {
     "name": "stdout",
     "output_type": "stream",
     "text": [
      "m:\n",
      "[[1. 2.]\n",
      " [3. 4.]]\n",
      "\n",
      "m.shape:\n",
      "(2, 2)\n"
     ]
    }
   ],
   "source": [
    "# Converting a Torch Tensor Back to a Numpy Array\n",
    "\n",
    "m = t.numpy()\n",
    "print(f\"m:\\n{m}\\n\")\n",
    "print(f\"m.shape:\\n{m.shape}\")"
   ]
  },
  {
   "cell_type": "code",
   "execution_count": null,
   "metadata": {
    "id": "C_fLltHNzu2F"
   },
   "outputs": [],
   "source": [
    "################################################"
   ]
  },
  {
   "cell_type": "code",
   "execution_count": null,
   "metadata": {
    "colab": {
     "base_uri": "https://localhost:8080/"
    },
    "id": "TvH8dpKxzwy3",
    "outputId": "2dfbfe60-e1ac-4fa0-fd40-5d93e9392a2c"
   },
   "outputs": [
    {
     "name": "stdout",
     "output_type": "stream",
     "text": [
      "t1:\n",
      "tensor([1., 2., 3., 4.])\n",
      "\n",
      "t1.shape:\n",
      "torch.Size([4])\n"
     ]
    }
   ],
   "source": [
    "# Row\n",
    "\n",
    "t1 = torch.tensor([1., 2, 3, 4])\n",
    "print(f\"t1:\\n{t1}\\n\")\n",
    "print(f\"t1.shape:\\n{t1.shape}\")"
   ]
  },
  {
   "cell_type": "code",
   "execution_count": null,
   "metadata": {
    "colab": {
     "base_uri": "https://localhost:8080/"
    },
    "id": "XtdOmATEUOn-",
    "outputId": "49a5448d-4d5f-4f88-fbb5-d9e062201646"
   },
   "outputs": [
    {
     "name": "stdout",
     "output_type": "stream",
     "text": [
      "t2:\n",
      "tensor([[5.],\n",
      "        [6.],\n",
      "        [7.],\n",
      "        [8.]])\n",
      "\n",
      "t2.shape:\n",
      "torch.Size([4, 1])\n"
     ]
    }
   ],
   "source": [
    "# Column\n",
    "\n",
    "t2 = torch.tensor([[5.], [6], [7], [8]])\n",
    "print(f\"t2:\\n{t2}\\n\")\n",
    "print(f\"t2.shape:\\n{t2.shape}\")"
   ]
  },
  {
   "cell_type": "code",
   "execution_count": null,
   "metadata": {
    "colab": {
     "base_uri": "https://localhost:8080/"
    },
    "id": "fwKG5cpRUVWM",
    "outputId": "3b270882-aa75-4d62-c657-110cdc521081"
   },
   "outputs": [
    {
     "name": "stdout",
     "output_type": "stream",
     "text": [
      "t3:\n",
      "tensor([[ 5.,  6.],\n",
      "        [ 7.,  8.],\n",
      "        [ 9., 10.]])\n",
      "\n",
      "t3.shape:\n",
      "torch.Size([3, 2])\n"
     ]
    }
   ],
   "source": [
    "# Matrix\n",
    "\n",
    "t3 = torch.tensor([[5., 6],\n",
    "                   [7, 8],\n",
    "                   [9, 10]])\n",
    "print(f\"t3:\\n{t3}\\n\")\n",
    "print(f\"t3.shape:\\n{t3.shape}\")"
   ]
  },
  {
   "cell_type": "code",
   "execution_count": null,
   "metadata": {
    "colab": {
     "base_uri": "https://localhost:8080/"
    },
    "id": "6BPs-TBzUbE2",
    "outputId": "ed4f8fb7-c66c-4d74-e384-5e57917f5c62"
   },
   "outputs": [
    {
     "name": "stdout",
     "output_type": "stream",
     "text": [
      "t4:\n",
      "tensor([[[11., 12., 13.],\n",
      "         [13., 14., 15.]],\n",
      "\n",
      "        [[15., 16., 17.],\n",
      "         [17., 18., 19.]]])\n",
      "\n",
      "t4.shape:\n",
      "torch.Size([2, 2, 3])\n"
     ]
    }
   ],
   "source": [
    "# 3-Dimensional Array\n",
    "\n",
    "t4 = torch.tensor([ [[11, 12, 13],\n",
    "                     [13, 14, 15]],\n",
    "\n",
    "                    [[15, 16, 17],\n",
    "                     [17, 18, 19.]] ])\n",
    "print(f\"t4:\\n{t4}\\n\")\n",
    "print(f\"t4.shape:\\n{t4.shape}\")"
   ]
  },
  {
   "cell_type": "code",
   "execution_count": null,
   "metadata": {
    "colab": {
     "base_uri": "https://localhost:8080/"
    },
    "id": "18Vt8EGrUhBG",
    "outputId": "d729b439-050b-40cf-f0ee-b2da577a4e2c"
   },
   "outputs": [
    {
     "data": {
      "text/plain": [
       "(tensor(3.), tensor(4., requires_grad=True), tensor(5., requires_grad=True))"
      ]
     },
     "execution_count": 15,
     "metadata": {},
     "output_type": "execute_result"
    }
   ],
   "source": [
    "# Creating Tensors\n",
    "\n",
    "x = torch.tensor(3.)\n",
    "w = torch.tensor(4., requires_grad=True)\n",
    "b = torch.tensor(5., requires_grad=True)\n",
    "\n",
    "x, w, b"
   ]
  },
  {
   "cell_type": "code",
   "execution_count": null,
   "metadata": {
    "colab": {
     "base_uri": "https://localhost:8080/"
    },
    "id": "EIplPxm5U1p7",
    "outputId": "175f1999-0f39-474d-c031-3ada67963ab4"
   },
   "outputs": [
    {
     "name": "stdout",
     "output_type": "stream",
     "text": [
      "y: tensor(17., grad_fn=<AddBackward0>)\n"
     ]
    }
   ],
   "source": [
    "y = x * w + b\n",
    "print(\"y:\", y)"
   ]
  },
  {
   "cell_type": "code",
   "execution_count": null,
   "metadata": {
    "id": "6ELOImfhU7su"
   },
   "outputs": [],
   "source": [
    "# Computing Derivatives of y\n",
    "\n",
    "y.backward()"
   ]
  },
  {
   "cell_type": "code",
   "execution_count": null,
   "metadata": {
    "colab": {
     "base_uri": "https://localhost:8080/"
    },
    "id": "jwDLI-ueVLDS",
    "outputId": "0c37af74-e008-4155-dc8a-e734891c98e6"
   },
   "outputs": [
    {
     "name": "stdout",
     "output_type": "stream",
     "text": [
      "dy/dx: None\n",
      "dy/dw: tensor(3.)\n",
      "dy/db: tensor(1.)\n"
     ]
    }
   ],
   "source": [
    "# Displaying Gradients\n",
    "\n",
    "print(\"dy/dx:\", x.grad)\n",
    "print(\"dy/dw:\", w.grad)\n",
    "print(\"dy/db:\", b.grad)"
   ]
  },
  {
   "cell_type": "code",
   "execution_count": null,
   "metadata": {
    "colab": {
     "base_uri": "https://localhost:8080/"
    },
    "id": "skTIF7O9VMGX",
    "outputId": "8771e342-26ce-4798-dacd-0642116f9c74"
   },
   "outputs": [
    {
     "name": "stdout",
     "output_type": "stream",
     "text": [
      "t6:\n",
      "tensor([[42, 42],\n",
      "        [42, 42],\n",
      "        [42, 42]])\n",
      "\n",
      "t6.shape:\n",
      "torch.Size([3, 2])\n"
     ]
    }
   ],
   "source": [
    "# Creating a Tensor with a Fixed Value for Every Element\n",
    "\n",
    "t6 = torch.full([3, 2], 42)\n",
    "print(f\"t6:\\n{t6}\\n\")\n",
    "print(f\"t6.shape:\\n{t6.shape}\")"
   ]
  },
  {
   "cell_type": "code",
   "execution_count": null,
   "metadata": {
    "colab": {
     "base_uri": "https://localhost:8080/"
    },
    "id": "BTtXkNCnVZ8r",
    "outputId": "35482cb1-10d2-4c8a-a574-e45407ce2ea2"
   },
   "outputs": [
    {
     "name": "stdout",
     "output_type": "stream",
     "text": [
      "t7:\n",
      "tensor([[ 5.,  6.],\n",
      "        [ 7.,  8.],\n",
      "        [ 9., 10.],\n",
      "        [42., 42.],\n",
      "        [42., 42.],\n",
      "        [42., 42.]])\n",
      "\n",
      "t7.shape:\n",
      "torch.Size([6, 2])\n"
     ]
    }
   ],
   "source": [
    "# Concatenation of Two Tensors: t3 & t6\n",
    "\n",
    "t7 = torch.cat([t3, t6])\n",
    "print(f\"t7:\\n{t7}\\n\")\n",
    "print(f\"t7.shape:\\n{t7.shape}\")"
   ]
  },
  {
   "cell_type": "code",
   "execution_count": null,
   "metadata": {
    "colab": {
     "base_uri": "https://localhost:8080/"
    },
    "id": "jAZFvmATVfy2",
    "outputId": "984a96ce-9ea1-4a71-bd20-0e76a804723b"
   },
   "outputs": [
    {
     "name": "stdout",
     "output_type": "stream",
     "text": [
      "t8:\n",
      "tensor([[-0.9589, -0.2794],\n",
      "        [ 0.6570,  0.9894],\n",
      "        [ 0.4121, -0.5440],\n",
      "        [-0.9165, -0.9165],\n",
      "        [-0.9165, -0.9165],\n",
      "        [-0.9165, -0.9165]])\n",
      "\n",
      "t8.shape:\n",
      "torch.Size([6, 2])\n"
     ]
    }
   ],
   "source": [
    "# Sinus Values of Each Element of a Tensor\n",
    "\n",
    "t8 = torch.sin(t7)\n",
    "print(f\"t8:\\n{t8}\\n\")\n",
    "print(f\"t8.shape:\\n{t8.shape}\")"
   ]
  },
  {
   "cell_type": "code",
   "execution_count": null,
   "metadata": {
    "colab": {
     "base_uri": "https://localhost:8080/"
    },
    "id": "vlllbYN0Vlii",
    "outputId": "f0d5aca9-6953-4d73-820c-f994bf9d1489"
   },
   "outputs": [
    {
     "name": "stdout",
     "output_type": "stream",
     "text": [
      "t9:\n",
      "tensor([[[-0.9589, -0.2794],\n",
      "         [ 0.6570,  0.9894]],\n",
      "\n",
      "        [[ 0.4121, -0.5440],\n",
      "         [-0.9165, -0.9165]],\n",
      "\n",
      "        [[-0.9165, -0.9165],\n",
      "         [-0.9165, -0.9165]]])\n",
      "\n",
      "t9.shape:\n",
      "torch.Size([3, 2, 2])\n"
     ]
    }
   ],
   "source": [
    "# Changing the Shape of a Tensor\n",
    "\n",
    "t9 = t8.reshape(3, 2, 2)\n",
    "print(f\"t9:\\n{t9}\\n\")\n",
    "print(f\"t9.shape:\\n{t9.shape}\")"
   ]
  },
  {
   "cell_type": "code",
   "execution_count": null,
   "metadata": {
    "colab": {
     "base_uri": "https://localhost:8080/"
    },
    "id": "FkvleYxFV4yI",
    "outputId": "1f3d17d6-82cd-473d-c624-71f8ce072d54"
   },
   "outputs": [
    {
     "name": "stdout",
     "output_type": "stream",
     "text": [
      "t9:\n",
      "tensor([[[-0.9589, -0.2794],\n",
      "         [ 0.6570,  0.9894],\n",
      "         [ 0.4121, -0.5440]],\n",
      "\n",
      "        [[-0.9165, -0.9165],\n",
      "         [-0.9165, -0.9165],\n",
      "         [-0.9165, -0.9165]]])\n",
      "\n",
      "t9.shape:\n",
      "torch.Size([2, 3, 2])\n"
     ]
    }
   ],
   "source": [
    "# Changing the Shape of a Tensor\n",
    "\n",
    "t9 = t8.reshape(2, 3, 2)\n",
    "print(f\"t9:\\n{t9}\\n\")\n",
    "print(f\"t9.shape:\\n{t9.shape}\")"
   ]
  },
  {
   "cell_type": "code",
   "execution_count": null,
   "metadata": {
    "colab": {
     "base_uri": "https://localhost:8080/"
    },
    "id": "-ZOZ3tn6V-XH",
    "outputId": "f2931ff9-7f3d-4a65-dcb6-5019099f052f"
   },
   "outputs": [
    {
     "name": "stdout",
     "output_type": "stream",
     "text": [
      "t9:\n",
      "tensor([[[-0.9589, -0.2794,  0.6570],\n",
      "         [ 0.9894,  0.4121, -0.5440]],\n",
      "\n",
      "        [[-0.9165, -0.9165, -0.9165],\n",
      "         [-0.9165, -0.9165, -0.9165]]])\n",
      "\n",
      "t9.shape:\n",
      "torch.Size([2, 2, 3])\n"
     ]
    }
   ],
   "source": [
    "# Changing the Shape of a Tensor\n",
    "\n",
    "t9 = t8.reshape(2, 2, 3)\n",
    "print(f\"t9:\\n{t9}\\n\")\n",
    "print(f\"t9.shape:\\n{t9.shape}\")"
   ]
  },
  {
   "cell_type": "code",
   "execution_count": null,
   "metadata": {
    "id": "Eg1xbPspWBHD"
   },
   "outputs": [],
   "source": []
  }
 ],
 "metadata": {
  "accelerator": "GPU",
  "colab": {
   "gpuType": "T4",
   "machine_shape": "hm",
   "provenance": []
  },
  "kernelspec": {
   "display_name": "Python 3 (ipykernel)",
   "language": "python",
   "name": "python3"
  },
  "language_info": {
   "codemirror_mode": {
    "name": "ipython",
    "version": 3
   },
   "file_extension": ".py",
   "mimetype": "text/x-python",
   "name": "python",
   "nbconvert_exporter": "python",
   "pygments_lexer": "ipython3",
   "version": "3.10.13"
  }
 },
 "nbformat": 4,
 "nbformat_minor": 1
}
