{
 "cells": [
  {
   "cell_type": "code",
   "execution_count": null,
   "metadata": {
    "id": "OsgPL4wLX5XI"
   },
   "outputs": [],
   "source": [
    "# Gradient Descent Example #"
   ]
  },
  {
   "cell_type": "code",
   "execution_count": null,
   "metadata": {
    "colab": {
     "base_uri": "https://localhost:8080/",
     "height": 17
    },
    "id": "g5byrgOBht2q",
    "outputId": "26636fb4-e8ef-43d0-9337-feffb205f48b"
   },
   "outputs": [
    {
     "data": {
      "text/html": [
       "<style>.container { width:100% !important; }</style>"
      ],
      "text/plain": [
       "<IPython.core.display.HTML object>"
      ]
     },
     "metadata": {},
     "output_type": "display_data"
    }
   ],
   "source": [
    "# Increasing the Cell Width of Jupyter Notebook\n",
    "\n",
    "from IPython.display import display, HTML\n",
    "display(HTML(\"<style>.container { width:100% !important; }</style>\"))"
   ]
  },
  {
   "cell_type": "code",
   "execution_count": null,
   "metadata": {
    "id": "_FWAj6S9iv0c"
   },
   "outputs": [],
   "source": [
    "# Importing Libraries\n",
    "\n",
    "import torch\n",
    "from tqdm.auto import tqdm\n",
    "import torch.nn as nn\n",
    "import numpy as np"
   ]
  },
  {
   "cell_type": "code",
   "execution_count": null,
   "metadata": {
    "id": "EZ4shZ6biwr9"
   },
   "outputs": [],
   "source": [
    "# Creating a Dataset Which Shows Apple and Orange Yields with the Given Circumstances\n",
    "\n",
    "# Input (Temperature, Rainfall, Humidity)\n",
    "input = np.array([ [73, 67, 43],\n",
    "                    [91, 88, 64],\n",
    "                    [87, 134, 58],\n",
    "                    [102, 43, 37],\n",
    "                    [69, 96, 70],\n",
    "                    [74, 66, 43],\n",
    "                    [91, 87, 65],\n",
    "                    [88, 134, 59],\n",
    "                    [101, 44, 37],\n",
    "                    [68, 96, 71],\n",
    "                    [73, 66, 44],\n",
    "                    [92, 87, 64],\n",
    "                    [87, 135, 57],\n",
    "                    [103, 43, 36],\n",
    "                    [68, 97, 70] ], dtype='float32')\n",
    "\n",
    "# Targets (Apples, Oranges)\n",
    "target = np.array([ [56, 70],\n",
    "                     [81, 101],\n",
    "                     [119, 133],\n",
    "                     [22, 37],\n",
    "                     [103, 119],\n",
    "                     [57, 69],\n",
    "                     [80, 102],\n",
    "                     [118, 132],\n",
    "                     [21, 38],\n",
    "                     [104, 118],\n",
    "                     [57, 69],\n",
    "                     [82, 100],\n",
    "                     [118, 134],\n",
    "                     [20, 38],\n",
    "                     [102, 120] ], dtype='float32')"
   ]
  },
  {
   "cell_type": "code",
   "execution_count": null,
   "metadata": {
    "colab": {
     "base_uri": "https://localhost:8080/"
    },
    "id": "Ffg9I1aOi2IO",
    "outputId": "0e94c9b3-cd4e-4e75-fe48-903332fcce95"
   },
   "outputs": [
    {
     "name": "stdout",
     "output_type": "stream",
     "text": [
      "inputs:\n",
      "tensor([[ 73.,  67.,  43.],\n",
      "        [ 91.,  88.,  64.],\n",
      "        [ 87., 134.,  58.],\n",
      "        [102.,  43.,  37.],\n",
      "        [ 69.,  96.,  70.],\n",
      "        [ 74.,  66.,  43.],\n",
      "        [ 91.,  87.,  65.],\n",
      "        [ 88., 134.,  59.],\n",
      "        [101.,  44.,  37.],\n",
      "        [ 68.,  96.,  71.],\n",
      "        [ 73.,  66.,  44.],\n",
      "        [ 92.,  87.,  64.],\n",
      "        [ 87., 135.,  57.],\n",
      "        [103.,  43.,  36.],\n",
      "        [ 68.,  97.,  70.]])\n",
      "\n",
      "targets:\n",
      "tensor([[ 56.,  70.],\n",
      "        [ 81., 101.],\n",
      "        [119., 133.],\n",
      "        [ 22.,  37.],\n",
      "        [103., 119.],\n",
      "        [ 57.,  69.],\n",
      "        [ 80., 102.],\n",
      "        [118., 132.],\n",
      "        [ 21.,  38.],\n",
      "        [104., 118.],\n",
      "        [ 57.,  69.],\n",
      "        [ 82., 100.],\n",
      "        [118., 134.],\n",
      "        [ 20.,  38.],\n",
      "        [102., 120.]])\n",
      "\n"
     ]
    }
   ],
   "source": [
    "# Converting Inputs and Targets to Tensors\n",
    "\n",
    "inputs = torch.from_numpy(input)\n",
    "targets = torch.from_numpy(target)\n",
    "\n",
    "print(f\"inputs:\\n{inputs}\\n\")\n",
    "print(f\"targets:\\n{targets}\\n\")"
   ]
  },
  {
   "cell_type": "code",
   "execution_count": null,
   "metadata": {
    "colab": {
     "base_uri": "https://localhost:8080/"
    },
    "id": "Zv0z9N_8i35L",
    "outputId": "6d83bda0-3d30-421e-f515-70fefda7c329"
   },
   "outputs": [
    {
     "name": "stdout",
     "output_type": "stream",
     "text": [
      "tensor([[ 0.8650,  0.4324, -0.4165],\n",
      "        [-0.8620, -0.5538,  0.7566]], requires_grad=True)\n",
      "tensor([0., 0.], requires_grad=True)\n"
     ]
    }
   ],
   "source": [
    "# Defining Weights & Biases with Kaiming Uniform Distribution and Loss Functions (MSE: Mean Square Error & MAE: Mean Absolute Error)\n",
    "\n",
    "w = torch.randn(2, 3, requires_grad=True)\n",
    "b = torch.randn(2, requires_grad=True)\n",
    "nn.init.kaiming_uniform_(w)\n",
    "nn.init.constant_(b, 0.)\n",
    "\n",
    "print(w)\n",
    "print(b)\n",
    "\n",
    "def model(x):\n",
    "    return x @ w.t() + b\n",
    "\n",
    "def loss_mse(t1, t2):\n",
    "    diff = t1-t2\n",
    "    return torch.sum(diff*diff)/diff.numel()\n",
    "\n",
    "def loss_mae(t1, t2):\n",
    "    diff = t1-t2\n",
    "    return torch.sum(abs(diff))/diff.numel()"
   ]
  },
  {
   "cell_type": "code",
   "execution_count": null,
   "metadata": {
    "colab": {
     "base_uri": "https://localhost:8080/"
    },
    "id": "UgvLVT9ei9VM",
    "outputId": "e87071e1-06cc-49e2-e441-804e07622546"
   },
   "outputs": [
    {
     "name": "stdout",
     "output_type": "stream",
     "text": [
      "loss:\n",
      "16084.3466796875\n",
      "\n",
      "w:\n",
      "[[ 0.8650165   0.43242395 -0.41645873]\n",
      " [-0.8619659  -0.5537705   0.7566101 ]]\n",
      "\n",
      "w.grad:\n",
      "tensor([[  1276.2900,    155.3387,    238.3467],\n",
      "        [-14368.6914, -15846.2227,  -9658.5811]])\n",
      "\n",
      "w/w.grad:\n",
      "[[ 6.7775859e-04  2.7837488e-03 -1.7472811e-03]\n",
      " [ 5.9989172e-05  3.4946530e-05 -7.8335535e-05]]\n",
      "\n",
      "sum of w/w.grad:\n",
      "0.001730826566927135\n"
     ]
    }
   ],
   "source": [
    "# Generating Random Weights and Biases, Evaluating the Loss Value with MSE (Mean Square Error) Before Training\n",
    "\n",
    "preds = model(inputs)\n",
    "loss = loss_mse(preds, targets)\n",
    "loss.backward()\n",
    "\n",
    "print(f\"loss:\\n{loss}\\n\")\n",
    "print(f\"w:\\n{w.detach().numpy()}\\n\")\n",
    "print(f\"w.grad:\\n{w.grad}\\n\")\n",
    "print(f\"w/w.grad:\\n{(w/w.grad).detach().numpy()}\\n\")\n",
    "print(f\"sum of w/w.grad:\\n{torch.sum(w/w.grad)}\")"
   ]
  },
  {
   "cell_type": "code",
   "execution_count": null,
   "metadata": {
    "colab": {
     "base_uri": "https://localhost:8080/",
     "height": 228,
     "referenced_widgets": [
      "42256a11bd8e446f9e5e56b87aa4ca50",
      "63a6a919abe64f56a30cda2cfa58d229",
      "eca6cad7e6e74542b030b24d311bddd8",
      "8027ce0004d2427980c6db95f5061254",
      "e66d2601db9643d191320a669c433d2a",
      "87331db5213e40498dca6b6799d939e3",
      "49fbd888f0c5402f904655754713ea52",
      "55b224cb233f40d4b348c708ced78367",
      "a460e8a51548407cb78f66f3ae6bfdde",
      "7a63ff2072dd4200b2f904210ae6d722",
      "8422d22ad8af4f7fa870de4f7b040638"
     ]
    },
    "id": "P8HehShujINA",
    "outputId": "87753018-3527-41b6-a2da-c076b1f0f625"
   },
   "outputs": [
    {
     "data": {
      "application/vnd.jupyter.widget-view+json": {
       "model_id": "42256a11bd8e446f9e5e56b87aa4ca50",
       "version_major": 2,
       "version_minor": 0
      },
      "text/plain": [
       "  0%|          | 0/10000 [00:00<?, ?it/s]"
      ]
     },
     "metadata": {},
     "output_type": "display_data"
    },
    {
     "name": "stdout",
     "output_type": "stream",
     "text": [
      "Loss:\n",
      "1.0319154262542725\n",
      "\n",
      "w:\n",
      "[[-0.4046501   0.84179455  0.6995899 ]\n",
      " [-0.28593567  0.7921423   0.8886243 ]]\n",
      "\n",
      "w.grad:\n",
      "tensor([[0., 0., 0.],\n",
      "        [0., 0., 0.]])\n"
     ]
    }
   ],
   "source": [
    "# Training the Model\n",
    "\n",
    "lr = 1e-4\n",
    "epochs = 10000\n",
    "\n",
    "for i in tqdm(range(epochs)):\n",
    "    preds = model(inputs)\n",
    "    loss = loss_mse(preds, targets)\n",
    "    loss.backward()\n",
    "\n",
    "    with torch.no_grad():\n",
    "        w -= w.grad * lr\n",
    "        b -= b.grad * lr\n",
    "        w.grad.zero_()\n",
    "        b.grad.zero_()\n",
    "\n",
    "    if (i+1) % (3*epochs/5) == 0:   # After 60% of the Total Epoch Number;\n",
    "        lr /= 10                    # Divide the Learning Rate by 10 (Optional).\n",
    "\n",
    "\n",
    "print(f\"Loss:\\n{loss.item()}\\n\")\n",
    "print(f\"w:\\n{w.detach().numpy()}\\n\")\n",
    "print(f\"w.grad:\\n{w.grad}\")"
   ]
  },
  {
   "cell_type": "code",
   "execution_count": null,
   "metadata": {
    "colab": {
     "base_uri": "https://localhost:8080/"
    },
    "id": "_zJR-PEZjO1G",
    "outputId": "fb055fd7-1984-41a5-b151-7d940d892406"
   },
   "outputs": [
    {
     "name": "stdout",
     "output_type": "stream",
     "text": [
      "Inputs:\n",
      "[[ 73.  67.  43.]\n",
      " [ 91.  88.  64.]\n",
      " [ 87. 134.  58.]\n",
      " [102.  43.  37.]\n",
      " [ 69.  96.  70.]\n",
      " [ 74.  66.  43.]\n",
      " [ 91.  87.  65.]\n",
      " [ 88. 134.  59.]\n",
      " [101.  44.  37.]\n",
      " [ 68.  96.  71.]\n",
      " [ 73.  66.  44.]\n",
      " [ 92.  87.  64.]\n",
      " [ 87. 135.  57.]\n",
      " [103.  43.  36.]\n",
      " [ 68.  97.  70.]]\n",
      "\n",
      "Predictions:\n",
      "[[ 56.  70.]\n",
      " [ 82. 100.]\n",
      " [118. 132.]\n",
      " [ 20.  37.]\n",
      " [101. 118.]\n",
      " [ 55.  69.]\n",
      " [ 81. 100.]\n",
      " [118. 133.]\n",
      " [ 22.  38.]\n",
      " [102. 119.]\n",
      " [ 56.  70.]\n",
      " [ 80.  99.]\n",
      " [118. 132.]\n",
      " [ 19.  36.]\n",
      " [103. 119.]]\n",
      "\n",
      "Targets:\n",
      "[[ 56.  70.]\n",
      " [ 81. 101.]\n",
      " [119. 133.]\n",
      " [ 22.  37.]\n",
      " [103. 119.]\n",
      " [ 57.  69.]\n",
      " [ 80. 102.]\n",
      " [118. 132.]\n",
      " [ 21.  38.]\n",
      " [104. 118.]\n",
      " [ 57.  69.]\n",
      " [ 82. 100.]\n",
      " [118. 134.]\n",
      " [ 20.  38.]\n",
      " [102. 120.]]\n",
      "\n",
      "Difference:\n",
      "[[ 0.  0.]\n",
      " [ 1. -1.]\n",
      " [-1. -1.]\n",
      " [-2.  0.]\n",
      " [-2. -1.]\n",
      " [-2.  0.]\n",
      " [ 1. -2.]\n",
      " [ 0.  1.]\n",
      " [ 1.  0.]\n",
      " [-2.  1.]\n",
      " [-1.  1.]\n",
      " [-2. -1.]\n",
      " [ 0. -2.]\n",
      " [-1. -2.]\n",
      " [ 1. -1.]]\n",
      "\n",
      "Loss:\n",
      "1.0319154262542725\n",
      "\n"
     ]
    }
   ],
   "source": [
    "# Generating Predictions After the Training\n",
    "\n",
    "preds = model(inputs)\n",
    "\n",
    "print(f\"Inputs:\\n{inputs.numpy()}\\n\")\n",
    "print(f\"Predictions:\\n{torch.trunc(preds).detach().numpy()}\\n\")\n",
    "print(f\"Targets:\\n{targets.numpy()}\\n\")\n",
    "print(f\"Difference:\\n{(torch.trunc(preds)-targets).detach().numpy()}\\n\")\n",
    "print(f\"Loss:\\n{loss_mse(preds, targets)}\\n\")"
   ]
  },
  {
   "cell_type": "code",
   "execution_count": null,
   "metadata": {
    "colab": {
     "base_uri": "https://localhost:8080/"
    },
    "id": "WGYJ1kFfjSvE",
    "outputId": "c60444b5-b502-46fa-9255-6c3c8e80fa5b"
   },
   "outputs": [
    {
     "name": "stdout",
     "output_type": "stream",
     "text": [
      "Inputs:\n",
      "[73. 67. 43.]\n",
      "\n",
      "Predictions:\n",
      "[56. 70.]\n",
      "\n",
      "Targets:\n",
      "[56. 70.]\n",
      "\n",
      "Difference:\n",
      "[0. 0.]\n",
      "\n",
      "Loss:\n",
      "0.5293396711349487\n",
      "\n"
     ]
    }
   ],
   "source": [
    "# Testing the Model with Single Input\n",
    "\n",
    "i = 0\n",
    "preds = model(inputs[i])\n",
    "\n",
    "print(f\"Inputs:\\n{inputs[i].numpy()}\\n\")\n",
    "print(f\"Predictions:\\n{torch.trunc(preds).detach().numpy()}\\n\")\n",
    "print(f\"Targets:\\n{targets[i].numpy()}\\n\")\n",
    "print(f\"Difference:\\n{(torch.trunc(preds)-targets[i]).detach().numpy()}\\n\")\n",
    "print(f\"Loss:\\n{loss_mse(preds, targets[i])}\\n\")"
   ]
  },
  {
   "cell_type": "code",
   "execution_count": null,
   "metadata": {
    "id": "gR7sguKFjaig"
   },
   "outputs": [],
   "source": []
  }
 ],
 "metadata": {
  "accelerator": "GPU",
  "colab": {
   "gpuType": "T4",
   "machine_shape": "hm",
   "provenance": []
  },
  "kernelspec": {
   "display_name": "Python 3 (ipykernel)",
   "language": "python",
   "name": "python3"
  },
  "language_info": {
   "codemirror_mode": {
    "name": "ipython",
    "version": 3
   },
   "file_extension": ".py",
   "mimetype": "text/x-python",
   "name": "python",
   "nbconvert_exporter": "python",
   "pygments_lexer": "ipython3",
   "version": "3.10.13"
  },
  "widgets": {
   "application/vnd.jupyter.widget-state+json": {
    "42256a11bd8e446f9e5e56b87aa4ca50": {
     "model_module": "@jupyter-widgets/controls",
     "model_module_version": "1.5.0",
     "model_name": "HBoxModel",
     "state": {
      "_dom_classes": [],
      "_model_module": "@jupyter-widgets/controls",
      "_model_module_version": "1.5.0",
      "_model_name": "HBoxModel",
      "_view_count": null,
      "_view_module": "@jupyter-widgets/controls",
      "_view_module_version": "1.5.0",
      "_view_name": "HBoxView",
      "box_style": "",
      "children": [
       "IPY_MODEL_63a6a919abe64f56a30cda2cfa58d229",
       "IPY_MODEL_eca6cad7e6e74542b030b24d311bddd8",
       "IPY_MODEL_8027ce0004d2427980c6db95f5061254"
      ],
      "layout": "IPY_MODEL_e66d2601db9643d191320a669c433d2a"
     }
    },
    "49fbd888f0c5402f904655754713ea52": {
     "model_module": "@jupyter-widgets/controls",
     "model_module_version": "1.5.0",
     "model_name": "DescriptionStyleModel",
     "state": {
      "_model_module": "@jupyter-widgets/controls",
      "_model_module_version": "1.5.0",
      "_model_name": "DescriptionStyleModel",
      "_view_count": null,
      "_view_module": "@jupyter-widgets/base",
      "_view_module_version": "1.2.0",
      "_view_name": "StyleView",
      "description_width": ""
     }
    },
    "55b224cb233f40d4b348c708ced78367": {
     "model_module": "@jupyter-widgets/base",
     "model_module_version": "1.2.0",
     "model_name": "LayoutModel",
     "state": {
      "_model_module": "@jupyter-widgets/base",
      "_model_module_version": "1.2.0",
      "_model_name": "LayoutModel",
      "_view_count": null,
      "_view_module": "@jupyter-widgets/base",
      "_view_module_version": "1.2.0",
      "_view_name": "LayoutView",
      "align_content": null,
      "align_items": null,
      "align_self": null,
      "border": null,
      "bottom": null,
      "display": null,
      "flex": null,
      "flex_flow": null,
      "grid_area": null,
      "grid_auto_columns": null,
      "grid_auto_flow": null,
      "grid_auto_rows": null,
      "grid_column": null,
      "grid_gap": null,
      "grid_row": null,
      "grid_template_areas": null,
      "grid_template_columns": null,
      "grid_template_rows": null,
      "height": null,
      "justify_content": null,
      "justify_items": null,
      "left": null,
      "margin": null,
      "max_height": null,
      "max_width": null,
      "min_height": null,
      "min_width": null,
      "object_fit": null,
      "object_position": null,
      "order": null,
      "overflow": null,
      "overflow_x": null,
      "overflow_y": null,
      "padding": null,
      "right": null,
      "top": null,
      "visibility": null,
      "width": null
     }
    },
    "63a6a919abe64f56a30cda2cfa58d229": {
     "model_module": "@jupyter-widgets/controls",
     "model_module_version": "1.5.0",
     "model_name": "HTMLModel",
     "state": {
      "_dom_classes": [],
      "_model_module": "@jupyter-widgets/controls",
      "_model_module_version": "1.5.0",
      "_model_name": "HTMLModel",
      "_view_count": null,
      "_view_module": "@jupyter-widgets/controls",
      "_view_module_version": "1.5.0",
      "_view_name": "HTMLView",
      "description": "",
      "description_tooltip": null,
      "layout": "IPY_MODEL_87331db5213e40498dca6b6799d939e3",
      "placeholder": "​",
      "style": "IPY_MODEL_49fbd888f0c5402f904655754713ea52",
      "value": "100%"
     }
    },
    "7a63ff2072dd4200b2f904210ae6d722": {
     "model_module": "@jupyter-widgets/base",
     "model_module_version": "1.2.0",
     "model_name": "LayoutModel",
     "state": {
      "_model_module": "@jupyter-widgets/base",
      "_model_module_version": "1.2.0",
      "_model_name": "LayoutModel",
      "_view_count": null,
      "_view_module": "@jupyter-widgets/base",
      "_view_module_version": "1.2.0",
      "_view_name": "LayoutView",
      "align_content": null,
      "align_items": null,
      "align_self": null,
      "border": null,
      "bottom": null,
      "display": null,
      "flex": null,
      "flex_flow": null,
      "grid_area": null,
      "grid_auto_columns": null,
      "grid_auto_flow": null,
      "grid_auto_rows": null,
      "grid_column": null,
      "grid_gap": null,
      "grid_row": null,
      "grid_template_areas": null,
      "grid_template_columns": null,
      "grid_template_rows": null,
      "height": null,
      "justify_content": null,
      "justify_items": null,
      "left": null,
      "margin": null,
      "max_height": null,
      "max_width": null,
      "min_height": null,
      "min_width": null,
      "object_fit": null,
      "object_position": null,
      "order": null,
      "overflow": null,
      "overflow_x": null,
      "overflow_y": null,
      "padding": null,
      "right": null,
      "top": null,
      "visibility": null,
      "width": null
     }
    },
    "8027ce0004d2427980c6db95f5061254": {
     "model_module": "@jupyter-widgets/controls",
     "model_module_version": "1.5.0",
     "model_name": "HTMLModel",
     "state": {
      "_dom_classes": [],
      "_model_module": "@jupyter-widgets/controls",
      "_model_module_version": "1.5.0",
      "_model_name": "HTMLModel",
      "_view_count": null,
      "_view_module": "@jupyter-widgets/controls",
      "_view_module_version": "1.5.0",
      "_view_name": "HTMLView",
      "description": "",
      "description_tooltip": null,
      "layout": "IPY_MODEL_7a63ff2072dd4200b2f904210ae6d722",
      "placeholder": "​",
      "style": "IPY_MODEL_8422d22ad8af4f7fa870de4f7b040638",
      "value": " 10000/10000 [00:01&lt;00:00, 5476.22it/s]"
     }
    },
    "8422d22ad8af4f7fa870de4f7b040638": {
     "model_module": "@jupyter-widgets/controls",
     "model_module_version": "1.5.0",
     "model_name": "DescriptionStyleModel",
     "state": {
      "_model_module": "@jupyter-widgets/controls",
      "_model_module_version": "1.5.0",
      "_model_name": "DescriptionStyleModel",
      "_view_count": null,
      "_view_module": "@jupyter-widgets/base",
      "_view_module_version": "1.2.0",
      "_view_name": "StyleView",
      "description_width": ""
     }
    },
    "87331db5213e40498dca6b6799d939e3": {
     "model_module": "@jupyter-widgets/base",
     "model_module_version": "1.2.0",
     "model_name": "LayoutModel",
     "state": {
      "_model_module": "@jupyter-widgets/base",
      "_model_module_version": "1.2.0",
      "_model_name": "LayoutModel",
      "_view_count": null,
      "_view_module": "@jupyter-widgets/base",
      "_view_module_version": "1.2.0",
      "_view_name": "LayoutView",
      "align_content": null,
      "align_items": null,
      "align_self": null,
      "border": null,
      "bottom": null,
      "display": null,
      "flex": null,
      "flex_flow": null,
      "grid_area": null,
      "grid_auto_columns": null,
      "grid_auto_flow": null,
      "grid_auto_rows": null,
      "grid_column": null,
      "grid_gap": null,
      "grid_row": null,
      "grid_template_areas": null,
      "grid_template_columns": null,
      "grid_template_rows": null,
      "height": null,
      "justify_content": null,
      "justify_items": null,
      "left": null,
      "margin": null,
      "max_height": null,
      "max_width": null,
      "min_height": null,
      "min_width": null,
      "object_fit": null,
      "object_position": null,
      "order": null,
      "overflow": null,
      "overflow_x": null,
      "overflow_y": null,
      "padding": null,
      "right": null,
      "top": null,
      "visibility": null,
      "width": null
     }
    },
    "a460e8a51548407cb78f66f3ae6bfdde": {
     "model_module": "@jupyter-widgets/controls",
     "model_module_version": "1.5.0",
     "model_name": "ProgressStyleModel",
     "state": {
      "_model_module": "@jupyter-widgets/controls",
      "_model_module_version": "1.5.0",
      "_model_name": "ProgressStyleModel",
      "_view_count": null,
      "_view_module": "@jupyter-widgets/base",
      "_view_module_version": "1.2.0",
      "_view_name": "StyleView",
      "bar_color": null,
      "description_width": ""
     }
    },
    "e66d2601db9643d191320a669c433d2a": {
     "model_module": "@jupyter-widgets/base",
     "model_module_version": "1.2.0",
     "model_name": "LayoutModel",
     "state": {
      "_model_module": "@jupyter-widgets/base",
      "_model_module_version": "1.2.0",
      "_model_name": "LayoutModel",
      "_view_count": null,
      "_view_module": "@jupyter-widgets/base",
      "_view_module_version": "1.2.0",
      "_view_name": "LayoutView",
      "align_content": null,
      "align_items": null,
      "align_self": null,
      "border": null,
      "bottom": null,
      "display": null,
      "flex": null,
      "flex_flow": null,
      "grid_area": null,
      "grid_auto_columns": null,
      "grid_auto_flow": null,
      "grid_auto_rows": null,
      "grid_column": null,
      "grid_gap": null,
      "grid_row": null,
      "grid_template_areas": null,
      "grid_template_columns": null,
      "grid_template_rows": null,
      "height": null,
      "justify_content": null,
      "justify_items": null,
      "left": null,
      "margin": null,
      "max_height": null,
      "max_width": null,
      "min_height": null,
      "min_width": null,
      "object_fit": null,
      "object_position": null,
      "order": null,
      "overflow": null,
      "overflow_x": null,
      "overflow_y": null,
      "padding": null,
      "right": null,
      "top": null,
      "visibility": null,
      "width": null
     }
    },
    "eca6cad7e6e74542b030b24d311bddd8": {
     "model_module": "@jupyter-widgets/controls",
     "model_module_version": "1.5.0",
     "model_name": "FloatProgressModel",
     "state": {
      "_dom_classes": [],
      "_model_module": "@jupyter-widgets/controls",
      "_model_module_version": "1.5.0",
      "_model_name": "FloatProgressModel",
      "_view_count": null,
      "_view_module": "@jupyter-widgets/controls",
      "_view_module_version": "1.5.0",
      "_view_name": "ProgressView",
      "bar_style": "success",
      "description": "",
      "description_tooltip": null,
      "layout": "IPY_MODEL_55b224cb233f40d4b348c708ced78367",
      "max": 10000,
      "min": 0,
      "orientation": "horizontal",
      "style": "IPY_MODEL_a460e8a51548407cb78f66f3ae6bfdde",
      "value": 10000
     }
    }
   }
  }
 },
 "nbformat": 4,
 "nbformat_minor": 1
}
